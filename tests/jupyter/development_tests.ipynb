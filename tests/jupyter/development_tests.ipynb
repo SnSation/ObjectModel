{
 "cells": [
  {
   "cell_type": "code",
   "execution_count": 1,
   "id": "therapeutic-disability",
   "metadata": {},
   "outputs": [],
   "source": [
    "class TestObject:\n",
    "    def __init__(self, name):\n",
    "        self.attributes = ['name']\n",
    "        self.name = name\n",
    "        self.test = \"TestValue\"\n",
    "        \n",
    "#     def __str__(self):\n",
    "#         return 'TestObject'\n",
    "    \n",
    "#     def __repr__(self):\n",
    "#         return f\"< TestObject | Name: {self.name} >\"\n",
    "    \n",
    "    def set_name(self, name):\n",
    "        self.name = name\n",
    "        \n",
    "    def get_name(self):\n",
    "        return self.name\n",
    "    \n",
    "    def set_test(self, test_value):\n",
    "        self.test = test\n",
    "        \n",
    "    def get_test(self):\n",
    "        return self.test\n",
    "    \n",
    "    def to_dict(self):\n",
    "        attribute_dict = {\n",
    "            'name':self.name,\n",
    "            'test':self.test\n",
    "        }"
   ]
  },
  {
   "cell_type": "code",
   "execution_count": 2,
   "id": "reverse-affiliation",
   "metadata": {},
   "outputs": [],
   "source": [
    "test_obj = TestObject('testname')"
   ]
  },
  {
   "cell_type": "code",
   "execution_count": 3,
   "id": "rapid-sudan",
   "metadata": {},
   "outputs": [
    {
     "data": {
      "text/plain": [
       "__main__.TestObject"
      ]
     },
     "execution_count": 3,
     "metadata": {},
     "output_type": "execute_result"
    }
   ],
   "source": [
    "type(test_obj)"
   ]
  },
  {
   "cell_type": "code",
   "execution_count": 4,
   "id": "spoken-disaster",
   "metadata": {},
   "outputs": [
    {
     "name": "stdout",
     "output_type": "stream",
     "text": [
      "<class '__main__.TestObject'>\n"
     ]
    }
   ],
   "source": [
    "print(type(test_obj))"
   ]
  },
  {
   "cell_type": "code",
   "execution_count": 5,
   "id": "indoor-drunk",
   "metadata": {},
   "outputs": [
    {
     "data": {
      "text/plain": [
       "'TestObject'"
      ]
     },
     "execution_count": 5,
     "metadata": {},
     "output_type": "execute_result"
    }
   ],
   "source": [
    "test_obj.__class__.__name__"
   ]
  },
  {
   "cell_type": "code",
   "execution_count": 6,
   "id": "fuzzy-participation",
   "metadata": {},
   "outputs": [
    {
     "data": {
      "text/plain": [
       "'<__main__.TestObject object at 0x000001D2695706A0>'"
      ]
     },
     "execution_count": 6,
     "metadata": {},
     "output_type": "execute_result"
    }
   ],
   "source": [
    "test_obj.__repr__()"
   ]
  },
  {
   "cell_type": "code",
   "execution_count": 7,
   "id": "sunset-court",
   "metadata": {},
   "outputs": [
    {
     "data": {
      "text/plain": [
       "'<__main__.TestObject object at 0x000001D2695706A0>'"
      ]
     },
     "execution_count": 7,
     "metadata": {},
     "output_type": "execute_result"
    }
   ],
   "source": [
    "test_obj.__str__()"
   ]
  },
  {
   "cell_type": "code",
   "execution_count": 8,
   "id": "emerging-roots",
   "metadata": {},
   "outputs": [
    {
     "name": "stdout",
     "output_type": "stream",
     "text": [
      "<__main__.TestObject object at 0x000001D2695706A0>\n"
     ]
    }
   ],
   "source": [
    "print(test_obj.__repr__())"
   ]
  },
  {
   "cell_type": "code",
   "execution_count": 9,
   "id": "earlier-yesterday",
   "metadata": {},
   "outputs": [],
   "source": [
    "import os"
   ]
  },
  {
   "cell_type": "code",
   "execution_count": 10,
   "id": "guilty-sheriff",
   "metadata": {},
   "outputs": [
    {
     "data": {
      "text/plain": [
       "'C:\\\\Users\\\\blair\\\\OneDrive\\\\Desktop\\\\Work\\\\Projects\\\\ObjectModel'"
      ]
     },
     "execution_count": 10,
     "metadata": {},
     "output_type": "execute_result"
    }
   ],
   "source": [
    "testpath = os.path.abspath('../../')\n",
    "testpath"
   ]
  },
  {
   "cell_type": "code",
   "execution_count": 11,
   "id": "silent-tumor",
   "metadata": {},
   "outputs": [
    {
     "data": {
      "text/plain": [
       "['.env',\n",
       " '.git',\n",
       " '.gitignore',\n",
       " 'example',\n",
       " 'LICENSE',\n",
       " 'ObjectModel_env',\n",
       " 'README.md',\n",
       " 'requirements.txt',\n",
       " 'setup.py',\n",
       " 'src',\n",
       " 'tests']"
      ]
     },
     "execution_count": 11,
     "metadata": {},
     "output_type": "execute_result"
    }
   ],
   "source": [
    "os.listdir(testpath)"
   ]
  },
  {
   "cell_type": "code",
   "execution_count": 12,
   "id": "sealed-broadcasting",
   "metadata": {},
   "outputs": [
    {
     "data": {
      "text/plain": [
       "'C:\\\\Users\\\\blair\\\\OneDrive\\\\Desktop\\\\Work\\\\Projects\\\\ObjectModel\\\\.env'"
      ]
     },
     "execution_count": 12,
     "metadata": {},
     "output_type": "execute_result"
    }
   ],
   "source": [
    "testfile = os.path.join(testpath, '.env')\n",
    "testfile"
   ]
  },
  {
   "cell_type": "code",
   "execution_count": 13,
   "id": "authorized-advantage",
   "metadata": {},
   "outputs": [
    {
     "data": {
      "text/plain": [
       "'..\\\\..\\\\.env'"
      ]
     },
     "execution_count": 13,
     "metadata": {},
     "output_type": "execute_result"
    }
   ],
   "source": [
    "testrel = os.path.relpath(testfile)\n",
    "testrel"
   ]
  },
  {
   "cell_type": "code",
   "execution_count": 14,
   "id": "focused-bread",
   "metadata": {},
   "outputs": [
    {
     "data": {
      "text/plain": [
       "'..\\\\..\\\\.env'"
      ]
     },
     "execution_count": 14,
     "metadata": {},
     "output_type": "execute_result"
    }
   ],
   "source": [
    "os.path.relpath(testrel)"
   ]
  },
  {
   "cell_type": "code",
   "execution_count": 15,
   "id": "marine-sister",
   "metadata": {},
   "outputs": [
    {
     "data": {
      "text/plain": [
       "'{}'"
      ]
     },
     "execution_count": 15,
     "metadata": {},
     "output_type": "execute_result"
    }
   ],
   "source": [
    "str({})"
   ]
  },
  {
   "cell_type": "code",
   "execution_count": 16,
   "id": "mighty-migration",
   "metadata": {},
   "outputs": [
    {
     "data": {
      "text/plain": [
       "dict"
      ]
     },
     "execution_count": 16,
     "metadata": {},
     "output_type": "execute_result"
    }
   ],
   "source": [
    "type({})"
   ]
  },
  {
   "cell_type": "code",
   "execution_count": 17,
   "id": "interior-flush",
   "metadata": {},
   "outputs": [
    {
     "name": "stdout",
     "output_type": "stream",
     "text": [
      "is dict\n"
     ]
    }
   ],
   "source": [
    "if type({}) == dict:\n",
    "    print('is dict')"
   ]
  },
  {
   "cell_type": "code",
   "execution_count": 18,
   "id": "arabic-leadership",
   "metadata": {},
   "outputs": [
    {
     "data": {
      "text/plain": [
       "'{}'"
      ]
     },
     "execution_count": 18,
     "metadata": {},
     "output_type": "execute_result"
    }
   ],
   "source": [
    "test_dict = {}\n",
    "str(test_dict)"
   ]
  },
  {
   "cell_type": "code",
   "execution_count": 19,
   "id": "comic-completion",
   "metadata": {},
   "outputs": [
    {
     "data": {
      "text/plain": [
       "__main__.TestObject"
      ]
     },
     "execution_count": 19,
     "metadata": {},
     "output_type": "execute_result"
    }
   ],
   "source": [
    "type(test_obj)"
   ]
  },
  {
   "cell_type": "code",
   "execution_count": 20,
   "id": "democratic-coordinate",
   "metadata": {},
   "outputs": [
    {
     "data": {
      "text/plain": [
       "dict"
      ]
     },
     "execution_count": 20,
     "metadata": {},
     "output_type": "execute_result"
    }
   ],
   "source": [
    "testdict = {}\n",
    "type(testdict)"
   ]
  },
  {
   "cell_type": "code",
   "execution_count": 21,
   "id": "improved-association",
   "metadata": {},
   "outputs": [
    {
     "data": {
      "text/plain": [
       "'dict'"
      ]
     },
     "execution_count": 21,
     "metadata": {},
     "output_type": "execute_result"
    }
   ],
   "source": [
    "testdict.__class__.__name__"
   ]
  },
  {
   "cell_type": "code",
   "execution_count": 22,
   "id": "closing-heating",
   "metadata": {},
   "outputs": [
    {
     "data": {
      "text/plain": [
       "__main__.TestObject"
      ]
     },
     "execution_count": 22,
     "metadata": {},
     "output_type": "execute_result"
    }
   ],
   "source": [
    "test_obj.__class__"
   ]
  },
  {
   "cell_type": "code",
   "execution_count": 23,
   "id": "ordinary-laundry",
   "metadata": {},
   "outputs": [
    {
     "data": {
      "text/plain": [
       "False"
      ]
     },
     "execution_count": 23,
     "metadata": {},
     "output_type": "execute_result"
    }
   ],
   "source": [
    "os.path.isdir(os.path.join(os.getcwd(), 'nonexistant_directory'))"
   ]
  },
  {
   "cell_type": "code",
   "execution_count": 24,
   "id": "widespread-hurricane",
   "metadata": {},
   "outputs": [
    {
     "data": {
      "text/plain": [
       "{'attributes': ['name'], 'name': 'testname', 'test': 'TestValue'}"
      ]
     },
     "execution_count": 24,
     "metadata": {},
     "output_type": "execute_result"
    }
   ],
   "source": [
    "test_obj.__dict__"
   ]
  },
  {
   "cell_type": "code",
   "execution_count": 25,
   "id": "pending-giving",
   "metadata": {},
   "outputs": [],
   "source": [
    "class AnotherTest:\n",
    "    def __init__(self, name):\n",
    "        self.name = name\n",
    "        self.test_attr = 'test_attribute'\n",
    "        self.test_obj = TestObject('test_object_name')"
   ]
  },
  {
   "cell_type": "code",
   "execution_count": 26,
   "id": "suited-position",
   "metadata": {},
   "outputs": [],
   "source": [
    "anothertest = AnotherTest('another_test')"
   ]
  },
  {
   "cell_type": "code",
   "execution_count": 27,
   "id": "exciting-sunglasses",
   "metadata": {},
   "outputs": [
    {
     "data": {
      "text/plain": [
       "{'name': 'another_test',\n",
       " 'test_attr': 'test_attribute',\n",
       " 'test_obj': <__main__.TestObject at 0x1d269682040>}"
      ]
     },
     "execution_count": 27,
     "metadata": {},
     "output_type": "execute_result"
    }
   ],
   "source": [
    "anothertest.__dict__"
   ]
  },
  {
   "cell_type": "code",
   "execution_count": 28,
   "id": "sharp-threshold",
   "metadata": {},
   "outputs": [
    {
     "name": "stdout",
     "output_type": "stream",
     "text": [
      "name:<class 'str'>\n",
      "test_attr:<class 'str'>\n",
      "test_obj:<class '__main__.TestObject'>\n"
     ]
    }
   ],
   "source": [
    "for k,v in anothertest.__dict__.items():\n",
    "    print(f\"{k}:{type(v)}\")"
   ]
  },
  {
   "cell_type": "code",
   "execution_count": 29,
   "id": "received-thickness",
   "metadata": {},
   "outputs": [
    {
     "name": "stdout",
     "output_type": "stream",
     "text": [
      "string:<class 'str'>\n",
      "list:<class 'list'>\n",
      "dictionary:<class 'dict'>\n",
      "tuple:<class 'tuple'>\n",
      "number:<class 'int'>\n",
      "object:<class '__main__.AnotherTest'>\n",
      "boolean:<class 'bool'>\n"
     ]
    }
   ],
   "source": [
    "test_dict = {\n",
    "    'string':'string',\n",
    "    'list':[],\n",
    "    'dictionary':{},\n",
    "    'tuple':(),\n",
    "    'number':1,\n",
    "    'object':anothertest,\n",
    "    'boolean':True\n",
    "}\n",
    "for k,v in test_dict.items():\n",
    "    print(f\"{k}:{type(v)}\")"
   ]
  },
  {
   "cell_type": "code",
   "execution_count": 30,
   "id": "caring-plate",
   "metadata": {},
   "outputs": [
    {
     "name": "stdout",
     "output_type": "stream",
     "text": [
      "1 : <class 'int'>\n",
      "0.1 : <class 'float'>\n",
      "3.14 : <class 'float'>\n"
     ]
    }
   ],
   "source": [
    "num_list = [1, .1, 3.14]\n",
    "for num in num_list:\n",
    "    print(f\"{num} : {type(num)}\")"
   ]
  },
  {
   "cell_type": "code",
   "execution_count": 31,
   "id": "sapphire-dietary",
   "metadata": {},
   "outputs": [
    {
     "data": {
      "text/plain": [
       "<__main__.TestObject at 0x1d269682040>"
      ]
     },
     "execution_count": 31,
     "metadata": {},
     "output_type": "execute_result"
    }
   ],
   "source": [
    "anothertest.__dict__['test_obj']"
   ]
  },
  {
   "cell_type": "code",
   "execution_count": 32,
   "id": "agreed-ethiopia",
   "metadata": {},
   "outputs": [
    {
     "name": "stdout",
     "output_type": "stream",
     "text": [
      "None\n"
     ]
    }
   ],
   "source": [
    "test_item = 'nonexistant'\n",
    "if test_item in test_dict:\n",
    "    print(test_dict[test_item])\n",
    "else:\n",
    "    print(None)"
   ]
  },
  {
   "cell_type": "code",
   "execution_count": 33,
   "id": "curious-electricity",
   "metadata": {},
   "outputs": [
    {
     "name": "stdout",
     "output_type": "stream",
     "text": [
      "{'TestObject': {'base': <__main__.TestObject object at 0x000001D2695706A0>, 'presets': {'testname': {'attributes': ['name'], 'name': 'testname', 'test': 'TestValue'}}}, 'AnotherTest': {'base': <__main__.AnotherTest object at 0x000001D2696744F0>, 'presets': {'another_test': {'name': 'another_test', 'test_attr': 'test_attribute', 'test_obj': <__main__.TestObject object at 0x000001D269682040>}}}}\n"
     ]
    }
   ],
   "source": [
    "test_objects = [test_obj, anothertest]\n",
    "another_dict = {}\n",
    "for item in test_objects:\n",
    "    try:\n",
    "        if item.__class__.__name__ in another_dict:\n",
    "            another_dict[item.__class__.__name]['presets'][item.name] = item.__dict__\n",
    "        else:\n",
    "            another_dict[item.__class__.__name__] = {\n",
    "                'base':item,\n",
    "                'presets':{\n",
    "                    item.name:item.__dict__\n",
    "                }\n",
    "            }\n",
    "    except:\n",
    "        print(f\"Could not add {item} to models\")\n",
    "print(another_dict)"
   ]
  },
  {
   "cell_type": "code",
   "execution_count": 34,
   "id": "creative-luxury",
   "metadata": {},
   "outputs": [],
   "source": [
    "import SnSObjectModel"
   ]
  },
  {
   "cell_type": "code",
   "execution_count": 35,
   "id": "charming-delhi",
   "metadata": {},
   "outputs": [],
   "source": [
    "testom = SnSObjectModel.new()"
   ]
  },
  {
   "cell_type": "code",
   "execution_count": 36,
   "id": "interested-ordinary",
   "metadata": {},
   "outputs": [
    {
     "data": {
      "text/plain": [
       "{'attributes': ['name', 'models', 'cache'],\n",
       " 'name': 'default_ObjectModel',\n",
       " 'models': {},\n",
       " 'cache': {}}"
      ]
     },
     "execution_count": 36,
     "metadata": {},
     "output_type": "execute_result"
    }
   ],
   "source": [
    "testom.__dict__"
   ]
  },
  {
   "cell_type": "code",
   "execution_count": 37,
   "id": "laughing-saskatchewan",
   "metadata": {},
   "outputs": [],
   "source": [
    "testom.add_model(test_obj)"
   ]
  },
  {
   "cell_type": "code",
   "execution_count": 38,
   "id": "suffering-lounge",
   "metadata": {},
   "outputs": [
    {
     "data": {
      "text/plain": [
       "{'attributes': ['name', 'models', 'cache'],\n",
       " 'name': 'default_ObjectModel',\n",
       " 'models': {'TestObject': {'base': <__main__.TestObject at 0x1d2695706a0>,\n",
       "   'preset': {'testname': {'attributes': ['name'],\n",
       "     'name': 'testname',\n",
       "     'test': 'TestValue'}}}},\n",
       " 'cache': {}}"
      ]
     },
     "execution_count": 38,
     "metadata": {},
     "output_type": "execute_result"
    }
   ],
   "source": [
    "testom.__dict__"
   ]
  },
  {
   "cell_type": "code",
   "execution_count": 41,
   "id": "hindu-capital",
   "metadata": {},
   "outputs": [
    {
     "data": {
      "text/plain": [
       "<__main__.TestObject at 0x1d2695706a0>"
      ]
     },
     "execution_count": 41,
     "metadata": {},
     "output_type": "execute_result"
    }
   ],
   "source": [
    "testom.get('testname', 'TestObject')"
   ]
  },
  {
   "cell_type": "code",
   "execution_count": 42,
   "id": "weighted-assets",
   "metadata": {},
   "outputs": [
    {
     "data": {
      "text/plain": [
       "{'attributes': ['name', 'models', 'cache'],\n",
       " 'name': 'default_ObjectModel',\n",
       " 'models': {'TestObject': {'base': <__main__.TestObject at 0x1d2695706a0>,\n",
       "   'preset': {'testname': {'attributes': ['name'],\n",
       "     'name': 'testname',\n",
       "     'test': 'TestValue'}}}},\n",
       " 'cache': {'testname': <__main__.TestObject at 0x1d2695706a0>}}"
      ]
     },
     "execution_count": 42,
     "metadata": {},
     "output_type": "execute_result"
    }
   ],
   "source": [
    "testom.__dict__"
   ]
  },
  {
   "cell_type": "code",
   "execution_count": null,
   "id": "medical-elimination",
   "metadata": {},
   "outputs": [],
   "source": []
  }
 ],
 "metadata": {
  "kernelspec": {
   "display_name": "Python 3",
   "language": "python",
   "name": "python3"
  },
  "language_info": {
   "codemirror_mode": {
    "name": "ipython",
    "version": 3
   },
   "file_extension": ".py",
   "mimetype": "text/x-python",
   "name": "python",
   "nbconvert_exporter": "python",
   "pygments_lexer": "ipython3",
   "version": "3.9.2"
  }
 },
 "nbformat": 4,
 "nbformat_minor": 5
}
